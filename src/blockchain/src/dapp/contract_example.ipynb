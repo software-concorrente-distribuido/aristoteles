{
 "cells": [
  {
   "cell_type": "markdown",
   "metadata": {},
   "source": [
    "# Interaction with the contract"
   ]
  },
  {
   "cell_type": "markdown",
   "metadata": {},
   "source": [
    "### Web3 instanciation and setup"
   ]
  },
  {
   "cell_type": "markdown",
   "metadata": {},
   "source": [
    "**NOTE:** Before running this, ensure the blockchain is up by running `deploy.sh`.  "
   ]
  },
  {
   "cell_type": "code",
   "execution_count": 21,
   "metadata": {},
   "outputs": [],
   "source": [
    "from dotenv import dotenv_values\n",
    "from functools import wraps\n",
    "from web3 import Web3\n",
    "import json\n",
    "\n",
    "url = \"http://127.0.0.1:8545\"\n",
    "\n",
    "# Output from the deploy\n",
    "contract_address = \"0xfcc6285764F77c1671a2DdB177587d893c44EF0D\"\n",
    "\n",
    "\n",
    "env = dotenv_values(\".env\")\n",
    "password = env[\"ACCOUNT_PASSWORD\"]\n",
    "\n",
    "# Also output from deploy\n",
    "funder_addresses = [\n",
    "    \"0x49aD6eD823fB54A66997Ba26c73a1ebCc90C7b82\",\n",
    "    \"0x35b30d66C742b64a8cE690E6824De0aE25C1EDCA\",\n",
    "]\n",
    "DEFAULT_AMOUNT_FUND = 0.5 # ETH\n",
    "UNLOCK_DURATION = 300 # Seconds\n",
    "\n",
    "w3 = Web3(Web3.HTTPProvider(url))"
   ]
  },
  {
   "cell_type": "code",
   "execution_count": 22,
   "metadata": {},
   "outputs": [],
   "source": [
    "def fund_new_wallet_decorator(func):\n",
    "    \"\"\"Wrapper function to automatically send funds from funder adresses to newly created accounts.\"\"\"\n",
    "\n",
    "    @wraps(func)\n",
    "    def wrapper(*args, **kwargs):\n",
    "        new_wallet_address, new_wallet_private_key = func(*args, **kwargs)\n",
    "\n",
    "        # Unlock pre-funder wallets\n",
    "        for address in funder_addresses:\n",
    "            w3.geth.personal.unlock_account(\n",
    "                address, password, UNLOCK_DURATION\n",
    "            )  # Unlock for 5 minutes\n",
    "\n",
    "        gas_price = w3.eth.gas_price\n",
    "        gas_limit = w3.eth.estimate_gas(\n",
    "            {\n",
    "                \"to\": new_wallet_address,\n",
    "                \"value\": w3.to_wei(DEFAULT_AMOUNT_FUND, \"ether\"),\n",
    "                \"from\": funder_addresses[0],\n",
    "            }\n",
    "        )\n",
    "\n",
    "        for address in funder_addresses:\n",
    "            transaction = {\n",
    "                \"to\": new_wallet_address,\n",
    "                \"value\": w3.to_wei(DEFAULT_AMOUNT_FUND, \"ether\"),\n",
    "                \"gas\": gas_limit,\n",
    "                \"gasPrice\": gas_price,\n",
    "                \"from\": address,\n",
    "            }\n",
    "            txn_hash = w3.eth.send_transaction(transaction)\n",
    "            receipt = w3.eth.wait_for_transaction_receipt(txn_hash)\n",
    "\n",
    "        return new_wallet_address, new_wallet_private_key\n",
    "\n",
    "    return wrapper"
   ]
  },
  {
   "cell_type": "markdown",
   "metadata": {},
   "source": [
    "### Registering an account in the Blockchain"
   ]
  },
  {
   "cell_type": "code",
   "execution_count": 23,
   "metadata": {},
   "outputs": [
    {
     "name": "stdout",
     "output_type": "stream",
     "text": [
      "New Wallet Address: 0xC4A81375372FF615617f0F1B9786E741E85dBAeF\n",
      "New Wallet Private Key: 0xe53371fec39b0179137370dc0db90d33d8839830342674d91d7620ea9eff5e9a\n",
      "New Wallet Balance: 1000000000000000000\n"
     ]
    }
   ],
   "source": [
    "@fund_new_wallet_decorator\n",
    "def create_new_wallet(password: str):\n",
    "    \"\"\"Creates a new wallet in the blockchain\"\"\"\n",
    "    new_wallet = w3.eth.account.create(password)\n",
    "    new_wallet_address = new_wallet.address\n",
    "    new_wallet_private_key = new_wallet._private_key.hex()\n",
    "\n",
    "    return new_wallet_address, new_wallet_private_key\n",
    "\n",
    "\n",
    "# Usage Example\n",
    "new_wallet_address, new_wallet_private_key = create_new_wallet(\"password\")\n",
    "\n",
    "print(f\"New Wallet Address: {new_wallet_address}\")\n",
    "print(f\"New Wallet Private Key: {new_wallet_private_key}\")\n",
    "print(f\"New Wallet Balance: {w3.eth.get_balance(new_wallet_address)}\")"
   ]
  },
  {
   "cell_type": "markdown",
   "metadata": {},
   "source": [
    "### Interacting with the contract"
   ]
  },
  {
   "cell_type": "code",
   "execution_count": 24,
   "metadata": {},
   "outputs": [
    {
     "data": {
      "text/plain": [
       "[(0,\n",
       "  'Eleição Municipal de Morrinhos',\n",
       "  'Eleição oficial para prefeitos da melhor cidade da região',\n",
       "  '0xC4A81375372FF615617f0F1B9786E741E85dBAeF',\n",
       "  '0x0000000000000000000000000000000000000000',\n",
       "  0,\n",
       "  9999999999,\n",
       "  False,\n",
       "  [0],\n",
       "  1722271316,\n",
       "  1722271316)]"
      ]
     },
     "execution_count": 24,
     "metadata": {},
     "output_type": "execute_result"
    }
   ],
   "source": [
    "with open(\"./build/contracts_Voting_sol_Voting.abi\", \"r\") as f:\n",
    "    contract_abi = json.load(f)\n",
    "contract = w3.eth.contract(address=contract_address, abi=contract_abi)\n",
    "\n",
    "# Election and District info\n",
    "\n",
    "district_name = \"Morrinhos\"\n",
    "district_desc = \"Município do Estado de Morrinhos\"\n",
    "district_ids = [0]\n",
    "\n",
    "election_id = 0\n",
    "election_name = \"Eleição Municipal de Morrinhos\"\n",
    "description = \"Eleição oficial para prefeitos da melhor cidade da região\"\n",
    "\n",
    "# Creating an election\n",
    "\n",
    "tx = contract.functions.createElection(election_name, description, [0]).build_transaction(\n",
    "    {\n",
    "        \"from\": new_wallet_address,\n",
    "        \"gas\": 2000000,\n",
    "        \"gasPrice\": w3.to_wei(\"20\", \"gwei\"),\n",
    "        \"nonce\": w3.eth.get_transaction_count(new_wallet_address),\n",
    "    }\n",
    ")\n",
    "\n",
    "signed_tx = w3.eth.account.sign_transaction(tx, private_key=new_wallet_private_key)\n",
    "tx_hash = w3.eth.send_raw_transaction(signed_tx.rawTransaction)\n",
    "tx_receipt = w3.eth.wait_for_transaction_receipt(tx_hash)\n",
    "\n",
    "# Add district to election\n",
    "\n",
    "tx = contract.functions.addDistrict(\n",
    "    election_id, district_name, district_desc\n",
    ").build_transaction(\n",
    "    {\n",
    "        \"from\": new_wallet_address,\n",
    "        \"gas\": 2000000,\n",
    "        \"gasPrice\": w3.to_wei(\"20\", \"gwei\"),\n",
    "        \"nonce\": w3.eth.get_transaction_count(new_wallet_address),\n",
    "    }\n",
    ")\n",
    "\n",
    "signed_tx = w3.eth.account.sign_transaction(tx, private_key=new_wallet_private_key)\n",
    "tx_hash = w3.eth.send_raw_transaction(signed_tx.rawTransaction)\n",
    "tx_receipt = w3.eth.wait_for_transaction_receipt(tx_hash)\n",
    "contract.functions.getDistrictElections(0).call()"
   ]
  }
 ],
 "metadata": {
  "kernelspec": {
   "display_name": ".venv",
   "language": "python",
   "name": "python3"
  },
  "language_info": {
   "codemirror_mode": {
    "name": "ipython",
    "version": 3
   },
   "file_extension": ".py",
   "mimetype": "text/x-python",
   "name": "python",
   "nbconvert_exporter": "python",
   "pygments_lexer": "ipython3",
   "version": "3.12.4"
  }
 },
 "nbformat": 4,
 "nbformat_minor": 2
}
