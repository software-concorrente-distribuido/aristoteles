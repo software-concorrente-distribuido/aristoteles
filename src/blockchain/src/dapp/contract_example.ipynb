{
 "cells": [
  {
   "cell_type": "markdown",
   "metadata": {},
   "source": [
    "# Interaction with the contract"
   ]
  },
  {
   "cell_type": "markdown",
   "metadata": {},
   "source": [
    "### Web3 instanciation and setup"
   ]
  },
  {
   "cell_type": "markdown",
   "metadata": {},
   "source": [
    "**NOTE:** Before running this, ensure the blockchain is up by running `deploy.sh`.  "
   ]
  },
  {
   "cell_type": "code",
   "execution_count": 5,
   "metadata": {},
   "outputs": [],
   "source": [
    "from dotenv import dotenv_values\n",
    "from functools import wraps\n",
    "from web3 import Web3\n",
    "import json\n",
    "\n",
    "url = \"http://127.0.0.1:8545\"\n",
    "\n",
    "# Output from the deploy\n",
    "contract_address = \"0xcf94DD98F88B4975C3bb7074A213140D985FFe57\"\n",
    "\n",
    "\n",
    "env = dotenv_values(\".env\")\n",
    "password = env[\"ACCOUNT_PASSWORD\"]\n",
    "\n",
    "# Also output from deploy\n",
    "funder_addresses = [\n",
    "    \"0x548AEC5436F39e202205A2f829eeC592E12E7289\",\n",
    "    \"0x87834f4A4c629745603e0DC338271246f1798c83\",\n",
    "]\n",
    "DEFAULT_AMOUNT_FUND = 0.5 # ETH\n",
    "UNLOCK_DURATION = 300 # Seconds\n",
    "\n",
    "w3 = Web3(Web3.HTTPProvider(url))"
   ]
  },
  {
   "cell_type": "code",
   "execution_count": 6,
   "metadata": {},
   "outputs": [],
   "source": [
    "def fund_new_wallet_decorator(func):\n",
    "    \"\"\"Wrapper function to automatically send funds from funder adresses to newly created accounts.\"\"\"\n",
    "\n",
    "    @wraps(func)\n",
    "    def wrapper(*args, **kwargs):\n",
    "        new_wallet_address, new_wallet_private_key = func(*args, **kwargs)\n",
    "\n",
    "        # Unlock pre-funder wallets\n",
    "        for address in funder_addresses:\n",
    "            w3.geth.personal.unlock_account(\n",
    "                address, password, UNLOCK_DURATION\n",
    "            )  # Unlock for 5 minutes\n",
    "\n",
    "        gas_price = w3.eth.gas_price\n",
    "        gas_limit = w3.eth.estimate_gas(\n",
    "            {\n",
    "                \"to\": new_wallet_address,\n",
    "                \"value\": w3.to_wei(DEFAULT_AMOUNT_FUND, \"ether\"),\n",
    "                \"from\": funder_addresses[0],\n",
    "            }\n",
    "        )\n",
    "\n",
    "        for address in funder_addresses:\n",
    "            transaction = {\n",
    "                \"to\": new_wallet_address,\n",
    "                \"value\": w3.to_wei(DEFAULT_AMOUNT_FUND, \"ether\"),\n",
    "                \"gas\": gas_limit,\n",
    "                \"gasPrice\": gas_price,\n",
    "                \"from\": address,\n",
    "            }\n",
    "            txn_hash = w3.eth.send_transaction(transaction)\n",
    "            receipt = w3.eth.wait_for_transaction_receipt(txn_hash)\n",
    "\n",
    "        return new_wallet_address, new_wallet_private_key\n",
    "\n",
    "    return wrapper"
   ]
  },
  {
   "cell_type": "markdown",
   "metadata": {},
   "source": [
    "### Registering an account in the Blockchain"
   ]
  },
  {
   "cell_type": "code",
   "execution_count": 7,
   "metadata": {},
   "outputs": [
    {
     "name": "stdout",
     "output_type": "stream",
     "text": [
      "New Wallet Address: 0x779072c794C7E3e29A64D03aF9c566448eBb3584\n",
      "New Wallet Private Key: 0x07bfbe4414032325aa9b689c74d4ac42668b0eba8849ebcb888cc45439ae9d9f\n",
      "New Wallet Balance: 1000000000000000000\n"
     ]
    }
   ],
   "source": [
    "@fund_new_wallet_decorator\n",
    "def create_new_wallet(password: str):\n",
    "    \"\"\"Creates a new wallet in the blockchain\"\"\"\n",
    "    new_wallet = w3.eth.account.create(password)\n",
    "    new_wallet_address = new_wallet.address\n",
    "    new_wallet_private_key = new_wallet._private_key.hex()\n",
    "\n",
    "    return new_wallet_address, new_wallet_private_key\n",
    "\n",
    "\n",
    "# Usage Example\n",
    "new_wallet_address, new_wallet_private_key = create_new_wallet(\"password\")\n",
    "\n",
    "print(f\"New Wallet Address: {new_wallet_address}\")\n",
    "print(f\"New Wallet Private Key: {new_wallet_private_key}\")\n",
    "print(f\"New Wallet Balance: {w3.eth.get_balance(new_wallet_address)}\")"
   ]
  },
  {
   "cell_type": "markdown",
   "metadata": {},
   "source": [
    "### Interacting with the contract"
   ]
  },
  {
   "cell_type": "code",
   "execution_count": 8,
   "metadata": {},
   "outputs": [
    {
     "name": "stdout",
     "output_type": "stream",
     "text": [
      "1\n"
     ]
    }
   ],
   "source": [
    "with open(\"./build/contracts_Voting_sol_Voting.abi\", \"r\") as f:\n",
    "    contract_abi = json.load(f)\n",
    "contract = w3.eth.contract(address=contract_address, abi=contract_abi)\n",
    "\n",
    "# Election and District info\n",
    "\n",
    "election_name = \"ONI CHAN \"\n",
    "description = \"SERJÃO BERRANTEIRO\"\n",
    "# new_wallet_address = \"0xc8f52D7E42E61f495aCa36F026cfA6657f0f1c34\"\n",
    "# new_wallet_private_key = \"0x47a1495c2842b2891484fe8e17cf4500e836685693a66ec7673d6ea719a651e9\"\n",
    "\n",
    "# Creating an election\n",
    "\n",
    "tx = contract.functions.createElection(election_name, description).build_transaction(\n",
    "    {\n",
    "        \"from\": new_wallet_address,\n",
    "        \"gas\": 2000000,\n",
    "        \"gasPrice\": w3.to_wei(\"20\", \"gwei\"),\n",
    "        \"nonce\": w3.eth.get_transaction_count(new_wallet_address),\n",
    "    }\n",
    ")\n",
    "\n",
    "signed_tx = w3.eth.account.sign_transaction(tx, private_key=new_wallet_private_key)\n",
    "tx_hash = w3.eth.send_raw_transaction(signed_tx.rawTransaction)\n",
    "tx_receipt = w3.eth.wait_for_transaction_receipt(tx_hash)\n",
    "print(w3.eth.get_transaction_count(new_wallet_address))"
   ]
  },
  {
   "cell_type": "code",
   "execution_count": 22,
   "metadata": {},
   "outputs": [
    {
     "data": {
      "text/plain": [
       "[(0,\n",
       "  'string',\n",
       "  'string',\n",
       "  '0xc04b62c7A85B3eC327A2e2bA8A93D7f96dDf2E40',\n",
       "  '0x0000000000000000000000000000000000000000',\n",
       "  6,\n",
       "  52221721488094585246145198526519056873414513544960551659670058848500693598208,\n",
       "  False,\n",
       "  1722458927,\n",
       "  1722458927),\n",
       " (0,\n",
       "  '',\n",
       "  '',\n",
       "  '0x0000000000000000000000000000000000000000',\n",
       "  '0x0000000000000000000000000000000000000000',\n",
       "  0,\n",
       "  0,\n",
       "  False,\n",
       "  0,\n",
       "  0)]"
      ]
     },
     "execution_count": 22,
     "metadata": {},
     "output_type": "execute_result"
    }
   ],
   "source": [
    "contract.functions.getAdminElections(\"0xc04b62c7A85B3eC327A2e2bA8A93D7f96dDf2E40\").call()"
   ]
  },
  {
   "cell_type": "code",
   "execution_count": 10,
   "metadata": {},
   "outputs": [
    {
     "ename": "ContractLogicError",
     "evalue": "('execution reverted: Election does not exist', '0x08c379a000000000000000000000000000000000000000000000000000000000000000200000000000000000000000000000000000000000000000000000000000000017456c656374696f6e20646f6573206e6f74206578697374000000000000000000')",
     "output_type": "error",
     "traceback": [
      "\u001b[0;31m---------------------------------------------------------------------------\u001b[0m",
      "\u001b[0;31mContractLogicError\u001b[0m                        Traceback (most recent call last)",
      "Cell \u001b[0;32mIn[10], line 1\u001b[0m\n\u001b[0;32m----> 1\u001b[0m \u001b[43mcontract\u001b[49m\u001b[38;5;241;43m.\u001b[39;49m\u001b[43mfunctions\u001b[49m\u001b[38;5;241;43m.\u001b[39;49m\u001b[43mgetElection\u001b[49m\u001b[43m(\u001b[49m\u001b[38;5;241;43m5\u001b[39;49m\u001b[43m)\u001b[49m\u001b[38;5;241;43m.\u001b[39;49m\u001b[43mcall\u001b[49m\u001b[43m(\u001b[49m\u001b[43m)\u001b[49m\n",
      "File \u001b[0;32m~/dev/aristoteles/src/blockchain/src/dapp/.venv/lib/python3.11/site-packages/web3/contract/contract.py:305\u001b[0m, in \u001b[0;36mContractFunction.call\u001b[0;34m(self, transaction, block_identifier, state_override, ccip_read_enabled)\u001b[0m\n\u001b[1;32m    301\u001b[0m call_transaction \u001b[38;5;241m=\u001b[39m \u001b[38;5;28mself\u001b[39m\u001b[38;5;241m.\u001b[39m_get_call_txparams(transaction)\n\u001b[1;32m    303\u001b[0m block_id \u001b[38;5;241m=\u001b[39m parse_block_identifier(\u001b[38;5;28mself\u001b[39m\u001b[38;5;241m.\u001b[39mw3, block_identifier)\n\u001b[0;32m--> 305\u001b[0m \u001b[38;5;28;01mreturn\u001b[39;00m \u001b[43mcall_contract_function\u001b[49m\u001b[43m(\u001b[49m\n\u001b[1;32m    306\u001b[0m \u001b[43m    \u001b[49m\u001b[38;5;28;43mself\u001b[39;49m\u001b[38;5;241;43m.\u001b[39;49m\u001b[43mw3\u001b[49m\u001b[43m,\u001b[49m\n\u001b[1;32m    307\u001b[0m \u001b[43m    \u001b[49m\u001b[38;5;28;43mself\u001b[39;49m\u001b[38;5;241;43m.\u001b[39;49m\u001b[43maddress\u001b[49m\u001b[43m,\u001b[49m\n\u001b[1;32m    308\u001b[0m \u001b[43m    \u001b[49m\u001b[38;5;28;43mself\u001b[39;49m\u001b[38;5;241;43m.\u001b[39;49m\u001b[43m_return_data_normalizers\u001b[49m\u001b[43m,\u001b[49m\n\u001b[1;32m    309\u001b[0m \u001b[43m    \u001b[49m\u001b[38;5;28;43mself\u001b[39;49m\u001b[38;5;241;43m.\u001b[39;49m\u001b[43mfunction_identifier\u001b[49m\u001b[43m,\u001b[49m\n\u001b[1;32m    310\u001b[0m \u001b[43m    \u001b[49m\u001b[43mcall_transaction\u001b[49m\u001b[43m,\u001b[49m\n\u001b[1;32m    311\u001b[0m \u001b[43m    \u001b[49m\u001b[43mblock_id\u001b[49m\u001b[43m,\u001b[49m\n\u001b[1;32m    312\u001b[0m \u001b[43m    \u001b[49m\u001b[38;5;28;43mself\u001b[39;49m\u001b[38;5;241;43m.\u001b[39;49m\u001b[43mcontract_abi\u001b[49m\u001b[43m,\u001b[49m\n\u001b[1;32m    313\u001b[0m \u001b[43m    \u001b[49m\u001b[38;5;28;43mself\u001b[39;49m\u001b[38;5;241;43m.\u001b[39;49m\u001b[43mabi\u001b[49m\u001b[43m,\u001b[49m\n\u001b[1;32m    314\u001b[0m \u001b[43m    \u001b[49m\u001b[43mstate_override\u001b[49m\u001b[43m,\u001b[49m\n\u001b[1;32m    315\u001b[0m \u001b[43m    \u001b[49m\u001b[43mccip_read_enabled\u001b[49m\u001b[43m,\u001b[49m\n\u001b[1;32m    316\u001b[0m \u001b[43m    \u001b[49m\u001b[38;5;28;43mself\u001b[39;49m\u001b[38;5;241;43m.\u001b[39;49m\u001b[43mdecode_tuples\u001b[49m\u001b[43m,\u001b[49m\n\u001b[1;32m    317\u001b[0m \u001b[43m    \u001b[49m\u001b[38;5;241;43m*\u001b[39;49m\u001b[38;5;28;43mself\u001b[39;49m\u001b[38;5;241;43m.\u001b[39;49m\u001b[43margs\u001b[49m\u001b[43m,\u001b[49m\n\u001b[1;32m    318\u001b[0m \u001b[43m    \u001b[49m\u001b[38;5;241;43m*\u001b[39;49m\u001b[38;5;241;43m*\u001b[39;49m\u001b[38;5;28;43mself\u001b[39;49m\u001b[38;5;241;43m.\u001b[39;49m\u001b[43mkwargs\u001b[49m\u001b[43m,\u001b[49m\n\u001b[1;32m    319\u001b[0m \u001b[43m\u001b[49m\u001b[43m)\u001b[49m\n",
      "File \u001b[0;32m~/dev/aristoteles/src/blockchain/src/dapp/.venv/lib/python3.11/site-packages/web3/contract/utils.py:96\u001b[0m, in \u001b[0;36mcall_contract_function\u001b[0;34m(w3, address, normalizers, function_identifier, transaction, block_id, contract_abi, fn_abi, state_override, ccip_read_enabled, decode_tuples, *args, **kwargs)\u001b[0m\n\u001b[1;32m     81\u001b[0m \u001b[38;5;250m\u001b[39m\u001b[38;5;124;03m\"\"\"\u001b[39;00m\n\u001b[1;32m     82\u001b[0m \u001b[38;5;124;03mHelper function for interacting with a contract function using the\u001b[39;00m\n\u001b[1;32m     83\u001b[0m \u001b[38;5;124;03m`eth_call` API.\u001b[39;00m\n\u001b[1;32m     84\u001b[0m \u001b[38;5;124;03m\"\"\"\u001b[39;00m\n\u001b[1;32m     85\u001b[0m call_transaction \u001b[38;5;241m=\u001b[39m prepare_transaction(\n\u001b[1;32m     86\u001b[0m     address,\n\u001b[1;32m     87\u001b[0m     w3,\n\u001b[0;32m   (...)\u001b[0m\n\u001b[1;32m     93\u001b[0m     fn_kwargs\u001b[38;5;241m=\u001b[39mkwargs,\n\u001b[1;32m     94\u001b[0m )\n\u001b[0;32m---> 96\u001b[0m return_data \u001b[38;5;241m=\u001b[39m \u001b[43mw3\u001b[49m\u001b[38;5;241;43m.\u001b[39;49m\u001b[43meth\u001b[49m\u001b[38;5;241;43m.\u001b[39;49m\u001b[43mcall\u001b[49m\u001b[43m(\u001b[49m\n\u001b[1;32m     97\u001b[0m \u001b[43m    \u001b[49m\u001b[43mcall_transaction\u001b[49m\u001b[43m,\u001b[49m\n\u001b[1;32m     98\u001b[0m \u001b[43m    \u001b[49m\u001b[43mblock_identifier\u001b[49m\u001b[38;5;241;43m=\u001b[39;49m\u001b[43mblock_id\u001b[49m\u001b[43m,\u001b[49m\n\u001b[1;32m     99\u001b[0m \u001b[43m    \u001b[49m\u001b[43mstate_override\u001b[49m\u001b[38;5;241;43m=\u001b[39;49m\u001b[43mstate_override\u001b[49m\u001b[43m,\u001b[49m\n\u001b[1;32m    100\u001b[0m \u001b[43m    \u001b[49m\u001b[43mccip_read_enabled\u001b[49m\u001b[38;5;241;43m=\u001b[39;49m\u001b[43mccip_read_enabled\u001b[49m\u001b[43m,\u001b[49m\n\u001b[1;32m    101\u001b[0m \u001b[43m\u001b[49m\u001b[43m)\u001b[49m\n\u001b[1;32m    103\u001b[0m \u001b[38;5;28;01mif\u001b[39;00m fn_abi \u001b[38;5;129;01mis\u001b[39;00m \u001b[38;5;28;01mNone\u001b[39;00m:\n\u001b[1;32m    104\u001b[0m     fn_abi \u001b[38;5;241m=\u001b[39m find_matching_fn_abi(\n\u001b[1;32m    105\u001b[0m         contract_abi, w3\u001b[38;5;241m.\u001b[39mcodec, function_identifier, args, kwargs\n\u001b[1;32m    106\u001b[0m     )\n",
      "File \u001b[0;32m~/dev/aristoteles/src/blockchain/src/dapp/.venv/lib/python3.11/site-packages/web3/eth/eth.py:260\u001b[0m, in \u001b[0;36mEth.call\u001b[0;34m(self, transaction, block_identifier, state_override, ccip_read_enabled)\u001b[0m\n\u001b[1;32m    250\u001b[0m ccip_read_enabled_on_provider \u001b[38;5;241m=\u001b[39m \u001b[38;5;28mself\u001b[39m\u001b[38;5;241m.\u001b[39mw3\u001b[38;5;241m.\u001b[39mprovider\u001b[38;5;241m.\u001b[39mglobal_ccip_read_enabled\n\u001b[1;32m    251\u001b[0m \u001b[38;5;28;01mif\u001b[39;00m (\n\u001b[1;32m    252\u001b[0m     \u001b[38;5;66;03m# default conditions:\u001b[39;00m\n\u001b[1;32m    253\u001b[0m     ccip_read_enabled_on_provider\n\u001b[0;32m   (...)\u001b[0m\n\u001b[1;32m    258\u001b[0m     \u001b[38;5;129;01mand\u001b[39;00m ccip_read_enabled \u001b[38;5;129;01mis\u001b[39;00m \u001b[38;5;28;01mTrue\u001b[39;00m\n\u001b[1;32m    259\u001b[0m ):\n\u001b[0;32m--> 260\u001b[0m     \u001b[38;5;28;01mreturn\u001b[39;00m \u001b[38;5;28;43mself\u001b[39;49m\u001b[38;5;241;43m.\u001b[39;49m\u001b[43m_durin_call\u001b[49m\u001b[43m(\u001b[49m\u001b[43mtransaction\u001b[49m\u001b[43m,\u001b[49m\u001b[43m \u001b[49m\u001b[43mblock_identifier\u001b[49m\u001b[43m,\u001b[49m\u001b[43m \u001b[49m\u001b[43mstate_override\u001b[49m\u001b[43m)\u001b[49m\n\u001b[1;32m    262\u001b[0m \u001b[38;5;28;01mreturn\u001b[39;00m \u001b[38;5;28mself\u001b[39m\u001b[38;5;241m.\u001b[39m_call(transaction, block_identifier, state_override)\n",
      "File \u001b[0;32m~/dev/aristoteles/src/blockchain/src/dapp/.venv/lib/python3.11/site-packages/web3/eth/eth.py:279\u001b[0m, in \u001b[0;36mEth._durin_call\u001b[0;34m(self, transaction, block_identifier, state_override)\u001b[0m\n\u001b[1;32m    277\u001b[0m \u001b[38;5;28;01mfor\u001b[39;00m _ \u001b[38;5;129;01min\u001b[39;00m \u001b[38;5;28mrange\u001b[39m(max_redirects):\n\u001b[1;32m    278\u001b[0m     \u001b[38;5;28;01mtry\u001b[39;00m:\n\u001b[0;32m--> 279\u001b[0m         \u001b[38;5;28;01mreturn\u001b[39;00m \u001b[38;5;28;43mself\u001b[39;49m\u001b[38;5;241;43m.\u001b[39;49m\u001b[43m_call\u001b[49m\u001b[43m(\u001b[49m\u001b[43mtransaction\u001b[49m\u001b[43m,\u001b[49m\u001b[43m \u001b[49m\u001b[43mblock_identifier\u001b[49m\u001b[43m,\u001b[49m\u001b[43m \u001b[49m\u001b[43mstate_override\u001b[49m\u001b[43m)\u001b[49m\n\u001b[1;32m    280\u001b[0m     \u001b[38;5;28;01mexcept\u001b[39;00m OffchainLookup \u001b[38;5;28;01mas\u001b[39;00m offchain_lookup:\n\u001b[1;32m    281\u001b[0m         durin_calldata \u001b[38;5;241m=\u001b[39m handle_offchain_lookup(\n\u001b[1;32m    282\u001b[0m             offchain_lookup\u001b[38;5;241m.\u001b[39mpayload, transaction\n\u001b[1;32m    283\u001b[0m         )\n",
      "File \u001b[0;32m~/dev/aristoteles/src/blockchain/src/dapp/.venv/lib/python3.11/site-packages/web3/module.py:75\u001b[0m, in \u001b[0;36mretrieve_blocking_method_call_fn.<locals>.caller\u001b[0;34m(*args, **kwargs)\u001b[0m\n\u001b[1;32m     68\u001b[0m     \u001b[38;5;28;01mreturn\u001b[39;00m LogFilter(eth_module\u001b[38;5;241m=\u001b[39mmodule, filter_id\u001b[38;5;241m=\u001b[39merr\u001b[38;5;241m.\u001b[39mfilter_id)\n\u001b[1;32m     70\u001b[0m (\n\u001b[1;32m     71\u001b[0m     result_formatters,\n\u001b[1;32m     72\u001b[0m     error_formatters,\n\u001b[1;32m     73\u001b[0m     null_result_formatters,\n\u001b[1;32m     74\u001b[0m ) \u001b[38;5;241m=\u001b[39m response_formatters\n\u001b[0;32m---> 75\u001b[0m result \u001b[38;5;241m=\u001b[39m \u001b[43mw3\u001b[49m\u001b[38;5;241;43m.\u001b[39;49m\u001b[43mmanager\u001b[49m\u001b[38;5;241;43m.\u001b[39;49m\u001b[43mrequest_blocking\u001b[49m\u001b[43m(\u001b[49m\n\u001b[1;32m     76\u001b[0m \u001b[43m    \u001b[49m\u001b[43mmethod_str\u001b[49m\u001b[43m,\u001b[49m\u001b[43m \u001b[49m\u001b[43mparams\u001b[49m\u001b[43m,\u001b[49m\u001b[43m \u001b[49m\u001b[43merror_formatters\u001b[49m\u001b[43m,\u001b[49m\u001b[43m \u001b[49m\u001b[43mnull_result_formatters\u001b[49m\n\u001b[1;32m     77\u001b[0m \u001b[43m\u001b[49m\u001b[43m)\u001b[49m\n\u001b[1;32m     78\u001b[0m \u001b[38;5;28;01mreturn\u001b[39;00m apply_result_formatters(result_formatters, result)\n",
      "File \u001b[0;32m~/dev/aristoteles/src/blockchain/src/dapp/.venv/lib/python3.11/site-packages/web3/manager.py:330\u001b[0m, in \u001b[0;36mRequestManager.request_blocking\u001b[0;34m(self, method, params, error_formatters, null_result_formatters)\u001b[0m\n\u001b[1;32m    326\u001b[0m \u001b[38;5;250m\u001b[39m\u001b[38;5;124;03m\"\"\"\u001b[39;00m\n\u001b[1;32m    327\u001b[0m \u001b[38;5;124;03mMake a synchronous request using the provider\u001b[39;00m\n\u001b[1;32m    328\u001b[0m \u001b[38;5;124;03m\"\"\"\u001b[39;00m\n\u001b[1;32m    329\u001b[0m response \u001b[38;5;241m=\u001b[39m \u001b[38;5;28mself\u001b[39m\u001b[38;5;241m.\u001b[39m_make_request(method, params)\n\u001b[0;32m--> 330\u001b[0m \u001b[38;5;28;01mreturn\u001b[39;00m \u001b[38;5;28;43mself\u001b[39;49m\u001b[38;5;241;43m.\u001b[39;49m\u001b[43mformatted_response\u001b[49m\u001b[43m(\u001b[49m\n\u001b[1;32m    331\u001b[0m \u001b[43m    \u001b[49m\u001b[43mresponse\u001b[49m\u001b[43m,\u001b[49m\u001b[43m \u001b[49m\u001b[43mparams\u001b[49m\u001b[43m,\u001b[49m\u001b[43m \u001b[49m\u001b[43merror_formatters\u001b[49m\u001b[43m,\u001b[49m\u001b[43m \u001b[49m\u001b[43mnull_result_formatters\u001b[49m\n\u001b[1;32m    332\u001b[0m \u001b[43m\u001b[49m\u001b[43m)\u001b[49m\n",
      "File \u001b[0;32m~/dev/aristoteles/src/blockchain/src/dapp/.venv/lib/python3.11/site-packages/web3/manager.py:291\u001b[0m, in \u001b[0;36mRequestManager.formatted_response\u001b[0;34m(response, params, error_formatters, null_result_formatters)\u001b[0m\n\u001b[1;32m    286\u001b[0m     \u001b[38;5;28;01mif\u001b[39;00m \u001b[38;5;129;01mnot\u001b[39;00m \u001b[38;5;28misinstance\u001b[39m(error\u001b[38;5;241m.\u001b[39mget(\u001b[38;5;124m\"\u001b[39m\u001b[38;5;124mmessage\u001b[39m\u001b[38;5;124m\"\u001b[39m), \u001b[38;5;28mstr\u001b[39m):\n\u001b[1;32m    287\u001b[0m         _raise_bad_response_format(\n\u001b[1;32m    288\u001b[0m             response, \u001b[38;5;124m\"\u001b[39m\u001b[38;5;124merror[\u001b[39m\u001b[38;5;124m'\u001b[39m\u001b[38;5;124mmessage\u001b[39m\u001b[38;5;124m'\u001b[39m\u001b[38;5;124m] must be a string\u001b[39m\u001b[38;5;124m\"\u001b[39m\n\u001b[1;32m    289\u001b[0m         )\n\u001b[0;32m--> 291\u001b[0m     \u001b[43mapply_error_formatters\u001b[49m\u001b[43m(\u001b[49m\u001b[43merror_formatters\u001b[49m\u001b[43m,\u001b[49m\u001b[43m \u001b[49m\u001b[43mresponse\u001b[49m\u001b[43m)\u001b[49m\n\u001b[1;32m    293\u001b[0m     \u001b[38;5;28;01mraise\u001b[39;00m \u001b[38;5;167;01mValueError\u001b[39;00m(error)\n\u001b[1;32m    295\u001b[0m \u001b[38;5;66;03m# Format and validate results\u001b[39;00m\n",
      "File \u001b[0;32m~/dev/aristoteles/src/blockchain/src/dapp/.venv/lib/python3.11/site-packages/web3/manager.py:104\u001b[0m, in \u001b[0;36mapply_error_formatters\u001b[0;34m(error_formatters, response)\u001b[0m\n\u001b[1;32m     99\u001b[0m \u001b[38;5;28;01mdef\u001b[39;00m \u001b[38;5;21mapply_error_formatters\u001b[39m(\n\u001b[1;32m    100\u001b[0m     error_formatters: Callable[\u001b[38;5;241m.\u001b[39m\u001b[38;5;241m.\u001b[39m\u001b[38;5;241m.\u001b[39m, Any],\n\u001b[1;32m    101\u001b[0m     response: RPCResponse,\n\u001b[1;32m    102\u001b[0m ) \u001b[38;5;241m-\u001b[39m\u001b[38;5;241m>\u001b[39m RPCResponse:\n\u001b[1;32m    103\u001b[0m     \u001b[38;5;28;01mif\u001b[39;00m error_formatters:\n\u001b[0;32m--> 104\u001b[0m         formatted_resp \u001b[38;5;241m=\u001b[39m \u001b[43mpipe\u001b[49m\u001b[43m(\u001b[49m\u001b[43mresponse\u001b[49m\u001b[43m,\u001b[49m\u001b[43m \u001b[49m\u001b[43merror_formatters\u001b[49m\u001b[43m)\u001b[49m\n\u001b[1;32m    105\u001b[0m         \u001b[38;5;28;01mreturn\u001b[39;00m formatted_resp\n\u001b[1;32m    106\u001b[0m     \u001b[38;5;28;01melse\u001b[39;00m:\n",
      "File \u001b[0;32m~/dev/aristoteles/src/blockchain/src/dapp/.venv/lib/python3.11/site-packages/cytoolz/functoolz.pyx:680\u001b[0m, in \u001b[0;36mcytoolz.functoolz.pipe\u001b[0;34m()\u001b[0m\n",
      "File \u001b[0;32m~/dev/aristoteles/src/blockchain/src/dapp/.venv/lib/python3.11/site-packages/cytoolz/functoolz.pyx:655\u001b[0m, in \u001b[0;36mcytoolz.functoolz.c_pipe\u001b[0;34m()\u001b[0m\n",
      "File \u001b[0;32m~/dev/aristoteles/src/blockchain/src/dapp/.venv/lib/python3.11/site-packages/web3/_utils/error_formatters_utils.py:162\u001b[0m, in \u001b[0;36mraise_contract_logic_error_on_revert\u001b[0;34m(response)\u001b[0m\n\u001b[1;32m    159\u001b[0m \u001b[38;5;28;01mif\u001b[39;00m message_present:\n\u001b[1;32m    160\u001b[0m     \u001b[38;5;66;03m# Geth Revert with error message and code 3 case:\u001b[39;00m\n\u001b[1;32m    161\u001b[0m     \u001b[38;5;28;01mif\u001b[39;00m error\u001b[38;5;241m.\u001b[39mget(\u001b[38;5;124m\"\u001b[39m\u001b[38;5;124mcode\u001b[39m\u001b[38;5;124m\"\u001b[39m) \u001b[38;5;241m==\u001b[39m \u001b[38;5;241m3\u001b[39m:\n\u001b[0;32m--> 162\u001b[0m         \u001b[38;5;28;01mraise\u001b[39;00m ContractLogicError(message, data\u001b[38;5;241m=\u001b[39mdata)\n\u001b[1;32m    163\u001b[0m     \u001b[38;5;66;03m# Geth Revert without error message case:\u001b[39;00m\n\u001b[1;32m    164\u001b[0m     \u001b[38;5;28;01melif\u001b[39;00m \u001b[38;5;124m\"\u001b[39m\u001b[38;5;124mexecution reverted\u001b[39m\u001b[38;5;124m\"\u001b[39m \u001b[38;5;129;01min\u001b[39;00m message:\n",
      "\u001b[0;31mContractLogicError\u001b[0m: ('execution reverted: Election does not exist', '0x08c379a000000000000000000000000000000000000000000000000000000000000000200000000000000000000000000000000000000000000000000000000000000017456c656374696f6e20646f6573206e6f74206578697374000000000000000000')"
     ]
    }
   ],
   "source": [
    "contract.functions.getElection(5).call()"
   ]
  },
  {
   "cell_type": "code",
   "execution_count": 11,
   "metadata": {},
   "outputs": [
    {
     "data": {
      "text/plain": [
       "AttributeDict({'blockHash': HexBytes('0x9792850eb76a979f94b7dd2b35e1b20ff873a28ff01996e6268da60ff30eda29'),\n",
       " 'blockNumber': 1521,\n",
       " 'from': '0xc04b62c7A85B3eC327A2e2bA8A93D7f96dDf2E40',\n",
       " 'gas': 2000000,\n",
       " 'gasPrice': 20000000000,\n",
       " 'hash': HexBytes('0xc4794ad7a438fb6f87d4ea01436765723bbd8d019b0ef64cc26f0a4b557c0c72'),\n",
       " 'input': HexBytes('0x7ad36e84000000000000000000000000000000000000000000000000000000000000004000000000000000000000000000000000000000000000000000000000000000800000000000000000000000000000000000000000000000000000000000000006737472696e6700000000000000000000000000000000000000000000000000000000000000000000000000000000000000000000000000000000000000000006737472696e670000000000000000000000000000000000000000000000000000'),\n",
       " 'nonce': 1,\n",
       " 'to': '0xcf94DD98F88B4975C3bb7074A213140D985FFe57',\n",
       " 'transactionIndex': 0,\n",
       " 'value': 1,\n",
       " 'type': 0,\n",
       " 'v': 6948,\n",
       " 'r': HexBytes('0xb9ba337b1c47566430d2a84ac6ae865b8676239d8203e7d57c811bf4d5f7625a'),\n",
       " 's': HexBytes('0x65359ba46578c5f0ef9e240d0bd07e90e218e701d332d12169b707da8a01e9c9')})"
      ]
     },
     "execution_count": 11,
     "metadata": {},
     "output_type": "execute_result"
    }
   ],
   "source": [
    "w3.eth.get_transaction(\"0xc4794ad7a438fb6f87d4ea01436765723bbd8d019b0ef64cc26f0a4b557c0c72\")"
   ]
  },
  {
   "cell_type": "code",
   "execution_count": null,
   "metadata": {},
   "outputs": [],
   "source": [
    "# tx = contract.functions.addVoter(\n",
    "#     0, \"Leonardo\", \"12345\", new_wallet_address\n",
    "# ).build_transaction(\n",
    "#     {\n",
    "#         \"from\": new_wallet_address,\n",
    "#         \"gas\": 2000000,\n",
    "#         \"gasPrice\": w3.to_wei(\"20\", \"gwei\"),\n",
    "#         \"nonce\": w3.eth.get_transaction_count(new_wallet_address),\n",
    "#     }\n",
    "# )\n",
    "\n",
    "# signed_tx = w3.eth.account.sign_transaction(tx, private_key=new_wallet_private_key)\n",
    "# tx_hash = w3.eth.send_raw_transaction(signed_tx.rawTransaction)\n",
    "# tx_receipt = w3.eth.wait_for_transaction_receipt(tx_hash)"
   ]
  }
 ],
 "metadata": {
  "kernelspec": {
   "display_name": ".venv",
   "language": "python",
   "name": "python3"
  },
  "language_info": {
   "codemirror_mode": {
    "name": "ipython",
    "version": 3
   },
   "file_extension": ".py",
   "mimetype": "text/x-python",
   "name": "python",
   "nbconvert_exporter": "python",
   "pygments_lexer": "ipython3",
   "version": "3.11.0"
  }
 },
 "nbformat": 4,
 "nbformat_minor": 2
}
