{
 "cells": [
  {
   "cell_type": "markdown",
   "metadata": {},
   "source": [
    "# Interaction with the contract"
   ]
  },
  {
   "cell_type": "markdown",
   "metadata": {},
   "source": [
    "### Web3 instanciation and setup"
   ]
  },
  {
   "cell_type": "markdown",
   "metadata": {},
   "source": [
    "**NOTE:** Before running this, ensure the blockchain is up by running `deploy.sh`.  "
   ]
  },
  {
   "cell_type": "code",
   "execution_count": 37,
   "metadata": {},
   "outputs": [],
   "source": [
    "from dotenv import dotenv_values\n",
    "from functools import wraps\n",
    "from web3 import Web3\n",
    "import json\n",
    "\n",
    "url = \"http://127.0.0.1:8545\"\n",
    "\n",
    "# Output from the deploy\n",
    "contract_address = \"0xcf94DD98F88B4975C3bb7074A213140D985FFe57\"\n",
    "\n",
    "\n",
    "env = dotenv_values(\".env\")\n",
    "password = env[\"ACCOUNT_PASSWORD\"]\n",
    "\n",
    "# Also output from deploy\n",
    "funder_addresses = [\n",
    "    \"0x548AEC5436F39e202205A2f829eeC592E12E7289\",\n",
    "    \"0x87834f4A4c629745603e0DC338271246f1798c83\",\n",
    "]\n",
    "DEFAULT_AMOUNT_FUND = 0.5 # ETH\n",
    "UNLOCK_DURATION = 300 # Seconds\n",
    "\n",
    "w3 = Web3(Web3.HTTPProvider(url))"
   ]
  },
  {
   "cell_type": "code",
   "execution_count": 38,
   "metadata": {},
   "outputs": [],
   "source": [
    "def fund_new_wallet_decorator(func):\n",
    "    \"\"\"Wrapper function to automatically send funds from funder adresses to newly created accounts.\"\"\"\n",
    "\n",
    "    @wraps(func)\n",
    "    def wrapper(*args, **kwargs):\n",
    "        new_wallet_address, new_wallet_private_key = func(*args, **kwargs)\n",
    "\n",
    "        # Unlock pre-funder wallets\n",
    "        for address in funder_addresses:\n",
    "            w3.geth.personal.unlock_account(\n",
    "                address, password, UNLOCK_DURATION\n",
    "            )  # Unlock for 5 minutes\n",
    "\n",
    "        gas_price = w3.eth.gas_price\n",
    "        gas_limit = w3.eth.estimate_gas(\n",
    "            {\n",
    "                \"to\": new_wallet_address,\n",
    "                \"value\": w3.to_wei(DEFAULT_AMOUNT_FUND, \"ether\"),\n",
    "                \"from\": funder_addresses[0],\n",
    "            }\n",
    "        )\n",
    "\n",
    "        for address in funder_addresses:\n",
    "            transaction = {\n",
    "                \"to\": new_wallet_address,\n",
    "                \"value\": w3.to_wei(DEFAULT_AMOUNT_FUND, \"ether\"),\n",
    "                \"gas\": gas_limit,\n",
    "                \"gasPrice\": gas_price,\n",
    "                \"from\": address,\n",
    "            }\n",
    "            txn_hash = w3.eth.send_transaction(transaction)\n",
    "            receipt = w3.eth.wait_for_transaction_receipt(txn_hash)\n",
    "\n",
    "        return new_wallet_address, new_wallet_private_key\n",
    "\n",
    "    return wrapper"
   ]
  },
  {
   "cell_type": "markdown",
   "metadata": {},
   "source": [
    "### Registering an account in the Blockchain"
   ]
  },
  {
   "cell_type": "code",
   "execution_count": 39,
   "metadata": {},
   "outputs": [
    {
     "name": "stdout",
     "output_type": "stream",
     "text": [
      "New Wallet Address: 0x40f74b42036D63f47b2b8693AC1285c39244b3E0\n",
      "New Wallet Private Key: 0x78dcf8440cb9ac2513c2515babd4b122637f382f642a970d38abb220335d30f8\n",
      "New Wallet Balance: 1000000000000000000\n"
     ]
    }
   ],
   "source": [
    "@fund_new_wallet_decorator\n",
    "def create_new_wallet(password: str):\n",
    "    \"\"\"Creates a new wallet in the blockchain\"\"\"\n",
    "    new_wallet = w3.eth.account.create(password)\n",
    "    new_wallet_address = new_wallet.address\n",
    "    new_wallet_private_key = new_wallet._private_key.hex()\n",
    "\n",
    "    return new_wallet_address, new_wallet_private_key\n",
    "\n",
    "\n",
    "# Usage Example\n",
    "new_wallet_address, new_wallet_private_key = create_new_wallet(\"password\")\n",
    "\n",
    "print(f\"New Wallet Address: {new_wallet_address}\")\n",
    "print(f\"New Wallet Private Key: {new_wallet_private_key}\")\n",
    "print(f\"New Wallet Balance: {w3.eth.get_balance(new_wallet_address)}\")"
   ]
  },
  {
   "cell_type": "markdown",
   "metadata": {},
   "source": [
    "### Interacting with the contract"
   ]
  },
  {
   "cell_type": "code",
   "execution_count": 54,
   "metadata": {},
   "outputs": [],
   "source": [
    "with open(\"./build/contracts_Voting_sol_Voting.abi\", \"r\") as f:\n",
    "    contract_abi = json.load(f)\n",
    "contract = w3.eth.contract(address=contract_address, abi=contract_abi)\n",
    "\n",
    "# Election and District info\n",
    "\n",
    "election_name = \"97ayrtf78oseryg78st\"\n",
    "description = \"XANDÃO OWWWWWWWWWWWNT AWNT \"\n",
    "\n",
    "# Creating an election\n",
    "trans = {\n",
    "    \"from\": new_wallet_address,\n",
    "    \"gas\": 2000000,\n",
    "    \"gasPrice\": w3.to_wei(\"20\", \"gwei\"),\n",
    "    \"nonce\": w3.eth.get_transaction_count(new_wallet_address),\n",
    "}\n",
    "tx = contract.functions.createElection(election_name, description).build_transaction(\n",
    "    {\n",
    "        \"from\": new_wallet_address,\n",
    "        \"gas\": 2000000,\n",
    "        \"gasPrice\": w3.to_wei(\"20\", \"gwei\"),\n",
    "        \"nonce\": w3.eth.get_transaction_count(new_wallet_address),\n",
    "    }\n",
    ")\n",
    "\n",
    "signed_tx = w3.eth.account.sign_transaction(tx, private_key=new_wallet_private_key)\n",
    "tx_hash = w3.eth.send_raw_transaction(signed_tx.rawTransaction)\n",
    "tx_receipt = w3.eth.wait_for_transaction_receipt(tx_hash)"
   ]
  },
  {
   "cell_type": "code",
   "execution_count": 55,
   "metadata": {},
   "outputs": [
    {
     "data": {
      "text/plain": [
       "[(0,\n",
       "  'Eleição Municipal de Morrinhos',\n",
       "  'Eleição oficial para prefeitos da melhor cidade da região',\n",
       "  '0x40f74b42036D63f47b2b8693AC1285c39244b3E0',\n",
       "  '0x0000000000000000000000000000000000000000',\n",
       "  0,\n",
       "  9999999999,\n",
       "  False,\n",
       "  1722437610,\n",
       "  1722437610),\n",
       " (1,\n",
       "  'Eleição Municipal de Morrinhos',\n",
       "  'Eleição oficial para prefeitos da melhor cidade da região',\n",
       "  '0x40f74b42036D63f47b2b8693AC1285c39244b3E0',\n",
       "  '0x0000000000000000000000000000000000000000',\n",
       "  0,\n",
       "  9999999999,\n",
       "  False,\n",
       "  1722437639,\n",
       "  1722437639),\n",
       " (2,\n",
       "  'Tteste',\n",
       "  'Easdgsdftyhdfgyjftgyhuo',\n",
       "  '0x40f74b42036D63f47b2b8693AC1285c39244b3E0',\n",
       "  '0x0000000000000000000000000000000000000000',\n",
       "  0,\n",
       "  9999999999,\n",
       "  False,\n",
       "  1722437710,\n",
       "  1722437710),\n",
       " (3,\n",
       "  '97ayrtf78oseryg78st',\n",
       "  'XANDÃO OWWWWWWWWWWWNT AWNT ',\n",
       "  '0x40f74b42036D63f47b2b8693AC1285c39244b3E0',\n",
       "  '0x0000000000000000000000000000000000000000',\n",
       "  0,\n",
       "  9999999999,\n",
       "  False,\n",
       "  1722437753,\n",
       "  1722437753)]"
      ]
     },
     "execution_count": 55,
     "metadata": {},
     "output_type": "execute_result"
    }
   ],
   "source": [
    "contract.functions.getAdminElections(new_wallet_address).call()[:-1]"
   ]
  },
  {
   "cell_type": "code",
   "execution_count": 49,
   "metadata": {},
   "outputs": [
    {
     "data": {
      "text/plain": [
       "(0,\n",
       " 'Eleição Municipal de Morrinhos',\n",
       " 'Eleição oficial para prefeitos da melhor cidade da região',\n",
       " '0x40f74b42036D63f47b2b8693AC1285c39244b3E0',\n",
       " '0x0000000000000000000000000000000000000000',\n",
       " 0,\n",
       " 9999999999,\n",
       " False,\n",
       " 1722437610,\n",
       " 1722437610)"
      ]
     },
     "execution_count": 49,
     "metadata": {},
     "output_type": "execute_result"
    }
   ],
   "source": [
    "contract.functions.getElection(0).call()"
   ]
  },
  {
   "cell_type": "code",
   "execution_count": null,
   "metadata": {},
   "outputs": [],
   "source": []
  },
  {
   "cell_type": "code",
   "execution_count": null,
   "metadata": {},
   "outputs": [],
   "source": [
    "# tx = contract.functions.addVoter(\n",
    "#     0, \"Leonardo\", \"12345\", new_wallet_address\n",
    "# ).build_transaction(\n",
    "#     {\n",
    "#         \"from\": new_wallet_address,\n",
    "#         \"gas\": 2000000,\n",
    "#         \"gasPrice\": w3.to_wei(\"20\", \"gwei\"),\n",
    "#         \"nonce\": w3.eth.get_transaction_count(new_wallet_address),\n",
    "#     }\n",
    "# )\n",
    "\n",
    "# signed_tx = w3.eth.account.sign_transaction(tx, private_key=new_wallet_private_key)\n",
    "# tx_hash = w3.eth.send_raw_transaction(signed_tx.rawTransaction)\n",
    "# tx_receipt = w3.eth.wait_for_transaction_receipt(tx_hash)"
   ]
  }
 ],
 "metadata": {
  "kernelspec": {
   "display_name": ".venv",
   "language": "python",
   "name": "python3"
  },
  "language_info": {
   "codemirror_mode": {
    "name": "ipython",
    "version": 3
   },
   "file_extension": ".py",
   "mimetype": "text/x-python",
   "name": "python",
   "nbconvert_exporter": "python",
   "pygments_lexer": "ipython3",
   "version": "3.11.0"
  }
 },
 "nbformat": 4,
 "nbformat_minor": 2
}
