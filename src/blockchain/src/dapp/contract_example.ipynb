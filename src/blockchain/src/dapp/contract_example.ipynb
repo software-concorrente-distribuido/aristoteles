{
 "cells": [
  {
   "cell_type": "markdown",
   "metadata": {},
   "source": [
    "# Interaction with the contract"
   ]
  },
  {
   "cell_type": "markdown",
   "metadata": {},
   "source": [
    "### Web3 instanciation and setup"
   ]
  },
  {
   "cell_type": "markdown",
   "metadata": {},
   "source": [
    "**NOTE:** Before running this, ensure the blockchain is up by running `deploy.sh`.  "
   ]
  },
  {
   "cell_type": "code",
<<<<<<< HEAD
   "execution_count": 6,
=======
   "execution_count": 7,
>>>>>>> b0c80d098cc4fc5150d30f181cf3b4c1840632b8
   "metadata": {},
   "outputs": [],
   "source": [
    "from dotenv import dotenv_values\n",
    "from functools import wraps\n",
    "from web3 import Web3\n",
    "import json\n",
    "\n",
    "url = \"http://127.0.0.1:8545\"\n",
    "\n",
    "# Output from the deploy\n",
    "contract_address = \"0xcEEbad29CAb15Dd8CbA336A324Ac06419A010A4f\"\n",
    "\n",
    "\n",
    "env = dotenv_values(\".env\")\n",
    "password = env[\"ACCOUNT_PASSWORD\"]\n",
    "\n",
    "# Also output from deploy\n",
    "funder_addresses = [\n",
    "    \"0x49aD6eD823fB54A66997Ba26c73a1ebCc90C7b82\",\n",
    "    \"0x35b30d66C742b64a8cE690E6824De0aE25C1EDCA\",\n",
    "]\n",
    "DEFAULT_AMOUNT_FUND = 0.5 # ETH\n",
    "UNLOCK_DURATION = 300 # Seconds\n",
    "\n",
    "w3 = Web3(Web3.HTTPProvider(url))"
   ]
  },
  {
   "cell_type": "code",
<<<<<<< HEAD
   "execution_count": 7,
=======
   "execution_count": 8,
>>>>>>> b0c80d098cc4fc5150d30f181cf3b4c1840632b8
   "metadata": {},
   "outputs": [],
   "source": [
    "def fund_new_wallet_decorator(func):\n",
    "    \"\"\"Wrapper function to automatically send funds from funder adresses to newly created accounts.\"\"\"\n",
    "\n",
    "    @wraps(func)\n",
    "    def wrapper(*args, **kwargs):\n",
    "        new_wallet_address, new_wallet_private_key = func(*args, **kwargs)\n",
    "\n",
    "        # Unlock pre-funder wallets\n",
    "        for address in funder_addresses:\n",
    "            w3.geth.personal.unlock_account(\n",
    "                address, password, UNLOCK_DURATION\n",
    "            )  # Unlock for 5 minutes\n",
    "\n",
    "        gas_price = w3.eth.gas_price\n",
    "        gas_limit = w3.eth.estimate_gas(\n",
    "            {\n",
    "                \"to\": new_wallet_address,\n",
    "                \"value\": w3.to_wei(DEFAULT_AMOUNT_FUND, \"ether\"),\n",
    "                \"from\": funder_addresses[0],\n",
    "            }\n",
    "        )\n",
    "\n",
    "        for address in funder_addresses:\n",
    "            transaction = {\n",
    "                \"to\": new_wallet_address,\n",
    "                \"value\": w3.to_wei(DEFAULT_AMOUNT_FUND, \"ether\"),\n",
    "                \"gas\": gas_limit,\n",
    "                \"gasPrice\": gas_price,\n",
    "                \"from\": address,\n",
    "            }\n",
    "            txn_hash = w3.eth.send_transaction(transaction)\n",
    "            receipt = w3.eth.wait_for_transaction_receipt(txn_hash)\n",
    "\n",
    "        return new_wallet_address, new_wallet_private_key\n",
    "\n",
    "    return wrapper"
   ]
  },
  {
   "cell_type": "markdown",
   "metadata": {},
   "source": [
    "### Registering an account in the Blockchain"
   ]
  },
  {
   "cell_type": "code",
<<<<<<< HEAD
   "execution_count": 8,
   "metadata": {},
   "outputs": [
    {
     "name": "stdout",
     "output_type": "stream",
     "text": [
      "New Wallet Address: 0x65e196Cce43807F69E61b67dFB265601c44a29b3\n",
      "New Wallet Private Key: 0x30addf3af3b4c6a6002732ce9cb70d634e051637b8ce4af717b66bd94599a4fb\n",
      "New Wallet Balance: 1000000000000000000\n"
=======
   "execution_count": 9,
   "metadata": {},
   "outputs": [
    {
     "ename": "ValueError",
     "evalue": "{'code': -32000, 'message': 'no key for given address or file'}",
     "output_type": "error",
     "traceback": [
      "\u001b[1;31m---------------------------------------------------------------------------\u001b[0m",
      "\u001b[1;31mValueError\u001b[0m                                Traceback (most recent call last)",
      "Cell \u001b[1;32mIn[9], line 12\u001b[0m\n\u001b[0;32m      8\u001b[0m     \u001b[38;5;28;01mreturn\u001b[39;00m new_wallet_address, new_wallet_private_key\n\u001b[0;32m     11\u001b[0m \u001b[38;5;66;03m# Usage Example\u001b[39;00m\n\u001b[1;32m---> 12\u001b[0m new_wallet_address, new_wallet_private_key \u001b[38;5;241m=\u001b[39m \u001b[43mcreate_new_wallet\u001b[49m\u001b[43m(\u001b[49m\u001b[38;5;124;43m\"\u001b[39;49m\u001b[38;5;124;43mpassword\u001b[39;49m\u001b[38;5;124;43m\"\u001b[39;49m\u001b[43m)\u001b[49m\n\u001b[0;32m     14\u001b[0m \u001b[38;5;28mprint\u001b[39m(\u001b[38;5;124mf\u001b[39m\u001b[38;5;124m\"\u001b[39m\u001b[38;5;124mNew Wallet Address: \u001b[39m\u001b[38;5;132;01m{\u001b[39;00mnew_wallet_address\u001b[38;5;132;01m}\u001b[39;00m\u001b[38;5;124m\"\u001b[39m)\n\u001b[0;32m     15\u001b[0m \u001b[38;5;28mprint\u001b[39m(\u001b[38;5;124mf\u001b[39m\u001b[38;5;124m\"\u001b[39m\u001b[38;5;124mNew Wallet Private Key: \u001b[39m\u001b[38;5;132;01m{\u001b[39;00mnew_wallet_private_key\u001b[38;5;132;01m}\u001b[39;00m\u001b[38;5;124m\"\u001b[39m)\n",
      "Cell \u001b[1;32mIn[8], line 10\u001b[0m, in \u001b[0;36mfund_new_wallet_decorator.<locals>.wrapper\u001b[1;34m(*args, **kwargs)\u001b[0m\n\u001b[0;32m      8\u001b[0m \u001b[38;5;66;03m# Unlock pre-funder wallets\u001b[39;00m\n\u001b[0;32m      9\u001b[0m \u001b[38;5;28;01mfor\u001b[39;00m address \u001b[38;5;129;01min\u001b[39;00m funder_addresses:\n\u001b[1;32m---> 10\u001b[0m     \u001b[43mw3\u001b[49m\u001b[38;5;241;43m.\u001b[39;49m\u001b[43mgeth\u001b[49m\u001b[38;5;241;43m.\u001b[39;49m\u001b[43mpersonal\u001b[49m\u001b[38;5;241;43m.\u001b[39;49m\u001b[43munlock_account\u001b[49m\u001b[43m(\u001b[49m\n\u001b[0;32m     11\u001b[0m \u001b[43m        \u001b[49m\u001b[43maddress\u001b[49m\u001b[43m,\u001b[49m\u001b[43m \u001b[49m\u001b[43mpassword\u001b[49m\u001b[43m,\u001b[49m\u001b[43m \u001b[49m\u001b[43mUNLOCK_DURATION\u001b[49m\n\u001b[0;32m     12\u001b[0m \u001b[43m    \u001b[49m\u001b[43m)\u001b[49m  \u001b[38;5;66;03m# Unlock for 5 minutes\u001b[39;00m\n\u001b[0;32m     14\u001b[0m gas_price \u001b[38;5;241m=\u001b[39m w3\u001b[38;5;241m.\u001b[39meth\u001b[38;5;241m.\u001b[39mgas_price\n\u001b[0;32m     15\u001b[0m gas_limit \u001b[38;5;241m=\u001b[39m w3\u001b[38;5;241m.\u001b[39meth\u001b[38;5;241m.\u001b[39mestimate_gas(\n\u001b[0;32m     16\u001b[0m     {\n\u001b[0;32m     17\u001b[0m         \u001b[38;5;124m\"\u001b[39m\u001b[38;5;124mto\u001b[39m\u001b[38;5;124m\"\u001b[39m: new_wallet_address,\n\u001b[1;32m   (...)\u001b[0m\n\u001b[0;32m     20\u001b[0m     }\n\u001b[0;32m     21\u001b[0m )\n",
      "File \u001b[1;32mc:\\Users\\leona\\Desktop\\Aristoteles - final\\aristoteles\\src\\blockchain\\src\\dapp\\.venv\\Lib\\site-packages\\web3\\module.py:75\u001b[0m, in \u001b[0;36mretrieve_blocking_method_call_fn.<locals>.caller\u001b[1;34m(*args, **kwargs)\u001b[0m\n\u001b[0;32m     68\u001b[0m     \u001b[38;5;28;01mreturn\u001b[39;00m LogFilter(eth_module\u001b[38;5;241m=\u001b[39mmodule, filter_id\u001b[38;5;241m=\u001b[39merr\u001b[38;5;241m.\u001b[39mfilter_id)\n\u001b[0;32m     70\u001b[0m (\n\u001b[0;32m     71\u001b[0m     result_formatters,\n\u001b[0;32m     72\u001b[0m     error_formatters,\n\u001b[0;32m     73\u001b[0m     null_result_formatters,\n\u001b[0;32m     74\u001b[0m ) \u001b[38;5;241m=\u001b[39m response_formatters\n\u001b[1;32m---> 75\u001b[0m result \u001b[38;5;241m=\u001b[39m \u001b[43mw3\u001b[49m\u001b[38;5;241;43m.\u001b[39;49m\u001b[43mmanager\u001b[49m\u001b[38;5;241;43m.\u001b[39;49m\u001b[43mrequest_blocking\u001b[49m\u001b[43m(\u001b[49m\n\u001b[0;32m     76\u001b[0m \u001b[43m    \u001b[49m\u001b[43mmethod_str\u001b[49m\u001b[43m,\u001b[49m\u001b[43m \u001b[49m\u001b[43mparams\u001b[49m\u001b[43m,\u001b[49m\u001b[43m \u001b[49m\u001b[43merror_formatters\u001b[49m\u001b[43m,\u001b[49m\u001b[43m \u001b[49m\u001b[43mnull_result_formatters\u001b[49m\n\u001b[0;32m     77\u001b[0m \u001b[43m\u001b[49m\u001b[43m)\u001b[49m\n\u001b[0;32m     78\u001b[0m \u001b[38;5;28;01mreturn\u001b[39;00m apply_result_formatters(result_formatters, result)\n",
      "File \u001b[1;32mc:\\Users\\leona\\Desktop\\Aristoteles - final\\aristoteles\\src\\blockchain\\src\\dapp\\.venv\\Lib\\site-packages\\web3\\manager.py:330\u001b[0m, in \u001b[0;36mRequestManager.request_blocking\u001b[1;34m(self, method, params, error_formatters, null_result_formatters)\u001b[0m\n\u001b[0;32m    326\u001b[0m \u001b[38;5;250m\u001b[39m\u001b[38;5;124;03m\"\"\"\u001b[39;00m\n\u001b[0;32m    327\u001b[0m \u001b[38;5;124;03mMake a synchronous request using the provider\u001b[39;00m\n\u001b[0;32m    328\u001b[0m \u001b[38;5;124;03m\"\"\"\u001b[39;00m\n\u001b[0;32m    329\u001b[0m response \u001b[38;5;241m=\u001b[39m \u001b[38;5;28mself\u001b[39m\u001b[38;5;241m.\u001b[39m_make_request(method, params)\n\u001b[1;32m--> 330\u001b[0m \u001b[38;5;28;01mreturn\u001b[39;00m \u001b[38;5;28;43mself\u001b[39;49m\u001b[38;5;241;43m.\u001b[39;49m\u001b[43mformatted_response\u001b[49m\u001b[43m(\u001b[49m\n\u001b[0;32m    331\u001b[0m \u001b[43m    \u001b[49m\u001b[43mresponse\u001b[49m\u001b[43m,\u001b[49m\u001b[43m \u001b[49m\u001b[43mparams\u001b[49m\u001b[43m,\u001b[49m\u001b[43m \u001b[49m\u001b[43merror_formatters\u001b[49m\u001b[43m,\u001b[49m\u001b[43m \u001b[49m\u001b[43mnull_result_formatters\u001b[49m\n\u001b[0;32m    332\u001b[0m \u001b[43m\u001b[49m\u001b[43m)\u001b[49m\n",
      "File \u001b[1;32mc:\\Users\\leona\\Desktop\\Aristoteles - final\\aristoteles\\src\\blockchain\\src\\dapp\\.venv\\Lib\\site-packages\\web3\\manager.py:293\u001b[0m, in \u001b[0;36mRequestManager.formatted_response\u001b[1;34m(response, params, error_formatters, null_result_formatters)\u001b[0m\n\u001b[0;32m    287\u001b[0m         _raise_bad_response_format(\n\u001b[0;32m    288\u001b[0m             response, \u001b[38;5;124m\"\u001b[39m\u001b[38;5;124merror[\u001b[39m\u001b[38;5;124m'\u001b[39m\u001b[38;5;124mmessage\u001b[39m\u001b[38;5;124m'\u001b[39m\u001b[38;5;124m] must be a string\u001b[39m\u001b[38;5;124m\"\u001b[39m\n\u001b[0;32m    289\u001b[0m         )\n\u001b[0;32m    291\u001b[0m     apply_error_formatters(error_formatters, response)\n\u001b[1;32m--> 293\u001b[0m     \u001b[38;5;28;01mraise\u001b[39;00m \u001b[38;5;167;01mValueError\u001b[39;00m(error)\n\u001b[0;32m    295\u001b[0m \u001b[38;5;66;03m# Format and validate results\u001b[39;00m\n\u001b[0;32m    296\u001b[0m \u001b[38;5;28;01melif\u001b[39;00m \u001b[38;5;124m\"\u001b[39m\u001b[38;5;124mresult\u001b[39m\u001b[38;5;124m\"\u001b[39m \u001b[38;5;129;01min\u001b[39;00m response:\n\u001b[0;32m    297\u001b[0m     \u001b[38;5;66;03m# Null values for result should apply null_result_formatters\u001b[39;00m\n\u001b[0;32m    298\u001b[0m     \u001b[38;5;66;03m# Skip when result not present in the response (fallback to False)\u001b[39;00m\n",
      "\u001b[1;31mValueError\u001b[0m: {'code': -32000, 'message': 'no key for given address or file'}"
>>>>>>> b0c80d098cc4fc5150d30f181cf3b4c1840632b8
     ]
    }
   ],
   "source": [
    "@fund_new_wallet_decorator\n",
    "def create_new_wallet(password: str):\n",
    "    \"\"\"Creates a new wallet in the blockchain\"\"\"\n",
    "    new_wallet = w3.eth.account.create(password)\n",
    "    new_wallet_address = new_wallet.address\n",
    "    new_wallet_private_key = new_wallet._private_key.hex()\n",
    "\n",
    "    return new_wallet_address, new_wallet_private_key\n",
    "\n",
    "\n",
    "# Usage Example\n",
    "new_wallet_address, new_wallet_private_key = create_new_wallet(\"password\")\n",
    "\n",
    "print(f\"New Wallet Address: {new_wallet_address}\")\n",
    "print(f\"New Wallet Private Key: {new_wallet_private_key}\")\n",
    "print(f\"New Wallet Balance: {w3.eth.get_balance('0x9077908D225e529273207753381edb6DEDa84e0F')}\")"
   ]
  },
  {
   "cell_type": "markdown",
   "metadata": {},
   "source": [
    "### Interacting with the contract"
   ]
  },
  {
   "cell_type": "code",
<<<<<<< HEAD
   "execution_count": 11,
=======
   "execution_count": null,
>>>>>>> b0c80d098cc4fc5150d30f181cf3b4c1840632b8
   "metadata": {},
   "outputs": [],
   "source": [
    "with open(\"./build/contracts_Voting_sol_Voting.abi\", \"r\") as f:\n",
    "    contract_abi = json.load(f)\n",
    "contract = w3.eth.contract(address=contract_address, abi=contract_abi)\n",
    "\n",
    "# Election and District info\n",
    "\n",
    "district_name = \"Morrinhos\"\n",
    "district_desc = \"Município do Estado de Morrinhos\"\n",
    "district_ids = [0]\n",
    "\n",
    "election_id = 0\n",
    "election_name = \"Eleição Municipal de Morrinhos\"\n",
    "description = \"Eleição oficial para prefeitos da melhor cidade da região\"\n",
    "\n",
    "# Creating an election\n",
    "\n",
    "tx = contract.functions.createElection(election_name, description).build_transaction(\n",
    "    {\n",
    "        \"from\": new_wallet_address,\n",
    "        \"gas\": 2000000,\n",
    "        \"gasPrice\": w3.to_wei(\"20\", \"gwei\"),\n",
    "        \"nonce\": w3.eth.get_transaction_count(new_wallet_address),\n",
    "    }\n",
    ")\n",
    "\n",
    "signed_tx = w3.eth.account.sign_transaction(tx, private_key=new_wallet_private_key)\n",
    "tx_hash = w3.eth.send_raw_transaction(signed_tx.rawTransaction)\n",
    "tx_receipt = w3.eth.wait_for_transaction_receipt(tx_hash)"
   ]
  },
  {
   "cell_type": "code",
   "execution_count": 18,
   "metadata": {},
   "outputs": [],
   "source": [
    "tx = contract.functions.addVoter(\n",
    "    0, \"Leonardo\", \"12345\", new_wallet_address\n",
    ").build_transaction(\n",
    "    {\n",
    "        \"from\": new_wallet_address,\n",
    "        \"gas\": 2000000,\n",
    "        \"gasPrice\": w3.to_wei(\"20\", \"gwei\"),\n",
    "        \"nonce\": w3.eth.get_transaction_count(new_wallet_address),\n",
    "    }\n",
    ")\n",
    "\n",
    "signed_tx = w3.eth.account.sign_transaction(tx, private_key=new_wallet_private_key)\n",
    "tx_hash = w3.eth.send_raw_transaction(signed_tx.rawTransaction)\n",
    "tx_receipt = w3.eth.wait_for_transaction_receipt(tx_hash)"
   ]
  },
  {
   "cell_type": "code",
   "execution_count": 19,
   "metadata": {},
   "outputs": [
    {
     "data": {
      "text/plain": [
       "[(0,\n",
       "  'Eleição Municipal de Morrinhos',\n",
       "  'Eleição oficial para prefeitos da melhor cidade da região',\n",
       "  '0x65e196Cce43807F69E61b67dFB265601c44a29b3',\n",
       "  '0x0000000000000000000000000000000000000000',\n",
       "  0,\n",
       "  9999999999,\n",
       "  False,\n",
       "  1722312794,\n",
       "  1722312794),\n",
       " (0,\n",
       "  '',\n",
       "  '',\n",
       "  '0x0000000000000000000000000000000000000000',\n",
       "  '0x0000000000000000000000000000000000000000',\n",
       "  0,\n",
       "  0,\n",
       "  False,\n",
       "  0,\n",
       "  0)]"
      ]
     },
     "execution_count": 19,
     "metadata": {},
     "output_type": "execute_result"
    }
   ],
   "source": [
    "contract.functions.(getVoterElections\"0x65e196Cce43807F69E61b67dFB265601c44a29b3\").call()"
   ]
  }
 ],
 "metadata": {
  "kernelspec": {
   "display_name": ".venv",
   "language": "python",
   "name": "python3"
  },
  "language_info": {
   "codemirror_mode": {
    "name": "ipython",
    "version": 3
   },
   "file_extension": ".py",
   "mimetype": "text/x-python",
   "name": "python",
   "nbconvert_exporter": "python",
   "pygments_lexer": "ipython3",
   "version": "3.11.5"
  }
 },
 "nbformat": 4,
 "nbformat_minor": 2
}
