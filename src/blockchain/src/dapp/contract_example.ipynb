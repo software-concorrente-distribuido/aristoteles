{
 "cells": [
  {
   "cell_type": "markdown",
   "metadata": {},
   "source": [
    "# Interaction with the contract"
   ]
  },
  {
   "cell_type": "markdown",
   "metadata": {},
   "source": [
    "### Web3 instanciation and setup"
   ]
  },
  {
   "cell_type": "markdown",
   "metadata": {},
   "source": [
    "**NOTE:** Before running this, ensure the blockchain is up by running `deploy.sh`.  "
   ]
  },
  {
   "cell_type": "code",
   "execution_count": 4,
   "metadata": {},
   "outputs": [],
   "source": [
    "from dotenv import dotenv_values\n",
    "from functools import wraps\n",
    "from web3 import Web3\n",
    "import json\n",
    "\n",
    "url = \"http://127.0.0.1:8545\"\n",
    "\n",
    "# Here, put the output from the deploy\n",
    "contract_address = \"0xcf94DD98F88B4975C3bb7074A213140D985FFe57\"\n",
    "\n",
    "\n",
    "env = dotenv_values(\".env\")\n",
    "password = env[\"ACCOUNT_PASSWORD\"]\n",
    "\n",
    "# Also output from deploy\n",
    "funder_addresses = [\n",
    "    \"0x548AEC5436F39e202205A2f829eeC592E12E7289\",\n",
    "    \"0x87834f4A4c629745603e0DC338271246f1798c83\",\n",
    "]\n",
    "DEFAULT_AMOUNT_FUND = 0.5 # ETH\n",
    "UNLOCK_DURATION = 300 # Seconds\n",
    "\n",
    "w3 = Web3(Web3.HTTPProvider(url))"
   ]
  },
  {
   "cell_type": "code",
   "execution_count": 5,
   "metadata": {},
   "outputs": [],
   "source": [
    "def fund_new_wallet_decorator(func):\n",
    "    \"\"\"Wrapper function to automatically send funds from funder adresses to newly created accounts.\"\"\"\n",
    "\n",
    "    @wraps(func)\n",
    "    def wrapper(*args, **kwargs):\n",
    "        new_wallet_address, new_wallet_private_key = func(*args, **kwargs)\n",
    "\n",
    "        # Unlock pre-funder wallets\n",
    "        for address in funder_addresses:\n",
    "            w3.geth.personal.unlock_account(\n",
    "                address, password, UNLOCK_DURATION\n",
    "            )  # Unlock for 5 minutes\n",
    "\n",
    "        gas_price = w3.eth.gas_price\n",
    "        gas_limit = w3.eth.estimate_gas(\n",
    "            {\n",
    "                \"to\": new_wallet_address,\n",
    "                \"value\": w3.to_wei(DEFAULT_AMOUNT_FUND, \"ether\"),\n",
    "                \"from\": funder_addresses[0],\n",
    "            }\n",
    "        )\n",
    "\n",
    "        for address in funder_addresses:\n",
    "            transaction = {\n",
    "                \"to\": new_wallet_address,\n",
    "                \"value\": w3.to_wei(DEFAULT_AMOUNT_FUND, \"ether\"),\n",
    "                \"gas\": gas_limit,\n",
    "                \"gasPrice\": gas_price,\n",
    "                \"from\": address,\n",
    "            }\n",
    "            txn_hash = w3.eth.send_transaction(transaction)\n",
    "            receipt = w3.eth.wait_for_transaction_receipt(txn_hash)\n",
    "\n",
    "        return new_wallet_address, new_wallet_private_key\n",
    "\n",
    "    return wrapper"
   ]
  },
  {
   "cell_type": "markdown",
   "metadata": {},
   "source": [
    "### Registering an account in the Blockchain"
   ]
  },
  {
   "cell_type": "code",
   "execution_count": 6,
   "metadata": {},
   "outputs": [
    {
     "name": "stdout",
     "output_type": "stream",
     "text": [
      "New Wallet Address: 0xC7C11c1684bC537a9dF5C9aEcc019Ee72468cEf1\n",
      "New Wallet Private Key: 0x5c7b18179273cfca99cb2a5e18dfde6ac6b5ab6542df717aabdd7aa51c2d4119\n",
      "New Wallet Balance: 1000000000000000000\n"
     ]
    }
   ],
   "source": [
    "@fund_new_wallet_decorator\n",
    "def create_new_wallet(password: str):\n",
    "    \"\"\"Creates a new wallet in the blockchain\"\"\"\n",
    "    new_wallet = w3.eth.account.create(password)\n",
    "    new_wallet_address = new_wallet.address\n",
    "    new_wallet_private_key = new_wallet._private_key.hex()\n",
    "\n",
    "    return new_wallet_address, new_wallet_private_key\n",
    "\n",
    "\n",
    "# Usage Example\n",
    "new_wallet_address, new_wallet_private_key = create_new_wallet(\"password\")\n",
    "\n",
    "print(f\"New Wallet Address: {new_wallet_address}\")\n",
    "print(f\"New Wallet Private Key: {new_wallet_private_key}\")\n",
    "print(f\"New Wallet Balance: {w3.eth.get_balance(new_wallet_address)}\")"
   ]
  },
  {
   "cell_type": "markdown",
   "metadata": {},
   "source": [
    "### Interacting with the contract"
   ]
  },
  {
   "cell_type": "code",
   "execution_count": 7,
   "metadata": {},
   "outputs": [],
   "source": [
    "with open(\"./build/contracts_Voting_sol_Voting.abi\", \"r\") as f:\n",
    "    contract_abi = json.load(f)\n",
    "contract = w3.eth.contract(address=contract_address, abi=contract_abi)\n",
    "\n",
    "# Election info\n",
    "\n",
    "election_id = 0\n",
    "election_name = \"Eleição Municipal de Morrinhos\"\n",
    "description = \"Eleição oficial para prefeitos da melhor cidade da região\"\n",
    "\n",
    "# Creating an Election\n",
    "\n",
    "tx = contract.functions.createElection(election_name, description).build_transaction(\n",
    "    {\n",
    "        \"from\": new_wallet_address,\n",
    "        \"gas\": 2000000,\n",
    "        \"gasPrice\": w3.to_wei(\"20\", \"gwei\"),\n",
    "        \"nonce\": w3.eth.get_transaction_count(new_wallet_address),\n",
    "    }\n",
    ")\n",
    "\n",
    "signed_tx = w3.eth.account.sign_transaction(tx, private_key=new_wallet_private_key)\n",
    "tx_hash = w3.eth.send_raw_transaction(signed_tx.rawTransaction)\n",
    "tx_receipt = w3.eth.wait_for_transaction_receipt(tx_hash)\n",
    "\n",
    "# Adding a Voter\n",
    "\n",
    "tx = contract.functions.addVoter(\n",
    "    0, \"Leonardo\", \"12345\", new_wallet_address\n",
    ").build_transaction(\n",
    "    {\n",
    "        \"from\": new_wallet_address,\n",
    "        \"gas\": 2000000,\n",
    "        \"gasPrice\": w3.to_wei(\"20\", \"gwei\"),\n",
    "        \"nonce\": w3.eth.get_transaction_count(new_wallet_address),\n",
    "    }\n",
    ")\n",
    "\n",
    "signed_tx = w3.eth.account.sign_transaction(tx, private_key=new_wallet_private_key)\n",
    "tx_hash = w3.eth.send_raw_transaction(signed_tx.rawTransaction)\n",
    "tx_receipt = w3.eth.wait_for_transaction_receipt(tx_hash)"
   ]
  },
  {
   "cell_type": "code",
   "execution_count": 8,
   "metadata": {},
   "outputs": [
    {
     "data": {
      "text/plain": [
       "[(0,\n",
       "  'Eleição Municipal de Morrinhos',\n",
       "  'Eleição oficial para prefeitos da melhor cidade da região',\n",
       "  '0xC7C11c1684bC537a9dF5C9aEcc019Ee72468cEf1',\n",
       "  '0x0000000000000000000000000000000000000000',\n",
       "  0,\n",
       "  9999999999,\n",
       "  False,\n",
       "  1722527728,\n",
       "  1722527728),\n",
       " (0,\n",
       "  '',\n",
       "  '',\n",
       "  '0x0000000000000000000000000000000000000000',\n",
       "  '0x0000000000000000000000000000000000000000',\n",
       "  0,\n",
       "  0,\n",
       "  False,\n",
       "  0,\n",
       "  0)]"
      ]
     },
     "execution_count": 8,
     "metadata": {},
     "output_type": "execute_result"
    }
   ],
   "source": [
    "# Getting all elections from the Admin\n",
    "contract.functions.getAdminElections(new_wallet_address).call()"
   ]
  },
  {
   "cell_type": "code",
   "execution_count": 9,
   "metadata": {},
   "outputs": [
    {
     "data": {
      "text/plain": [
       "(0,\n",
       " 'Eleição Municipal de Morrinhos',\n",
       " 'Eleição oficial para prefeitos da melhor cidade da região',\n",
       " '0xC7C11c1684bC537a9dF5C9aEcc019Ee72468cEf1',\n",
       " '0x0000000000000000000000000000000000000000',\n",
       " 0,\n",
       " 9999999999,\n",
       " False,\n",
       " 1722527728,\n",
       " 1722527728)"
      ]
     },
     "execution_count": 9,
     "metadata": {},
     "output_type": "execute_result"
    }
   ],
   "source": [
    "# Ensuring the election is created\n",
    "contract.functions.getElection(0).call()"
   ]
  },
  {
   "cell_type": "code",
   "execution_count": 10,
   "metadata": {},
   "outputs": [
    {
     "data": {
      "text/plain": [
       "(0,\n",
       " 'Leonardo',\n",
       " '0xC7C11c1684bC537a9dF5C9aEcc019Ee72468cEf1',\n",
       " b'\\x18A\\xd6S\\xf9\\xc4\\xed\\xda\\x9df\\xa7\\xe7s{9v=k\\xd4\\x0fV\\x9a>\\xc6\\x85\\x9d3\\x05\\xb7#\\x10\\xe6',\n",
       " 1722527732,\n",
       " 1722527732)"
      ]
     },
     "execution_count": 10,
     "metadata": {},
     "output_type": "execute_result"
    }
   ],
   "source": [
    "# Getting all Voters from an Election\n",
    "contract.functions.getElectionVoter(0, 0).call()"
   ]
  }
 ],
 "metadata": {
  "kernelspec": {
   "display_name": ".venv",
   "language": "python",
   "name": "python3"
  },
  "language_info": {
   "codemirror_mode": {
    "name": "ipython",
    "version": 3
   },
   "file_extension": ".py",
   "mimetype": "text/x-python",
   "name": "python",
   "nbconvert_exporter": "python",
   "pygments_lexer": "ipython3",
   "version": "3.11.0"
  }
 },
 "nbformat": 4,
 "nbformat_minor": 2
}
